{
  "cells": [
    {
      "cell_type": "markdown",
      "metadata": {
        "id": "0LfJOII3KtEv"
      },
      "source": [
        "# CloudScriber:\n",
        "# A Seamless YouTube Audio Transcriber and WordCloud Generator\n",
        "*v1.2*\n",
        "\n",
        "Created by Ben Nachlas\n"
      ]
    },
    {
      "cell_type": "markdown",
      "metadata": {
        "id": "fUQ5_qEopT4N"
      },
      "source": [
        "To get started, click \"Runtime\" from the toolbar and select \"Run All.\""
      ]
    },
    {
      "cell_type": "markdown",
      "metadata": {
        "id": "elMZV6xiNjkF"
      },
      "source": [
        "Begin by pasting a valid YouTube URL into the box below and hitting enter:"
      ]
    },
    {
      "cell_type": "code",
      "execution_count": null,
      "metadata": {
        "colab": {
          "background_save": true
        },
        "id": "4D3aK839NMLx"
      },
      "outputs": [],
      "source": [
        "#prompts user to enter YouTube URL\n",
        "#note - currently does not check for errors. Make sure to enter valid URL. \n",
        "youtube_video_url = input(\"What YouTube video would you like to analyze? \")\n"
      ]
    },
    {
      "cell_type": "markdown",
      "metadata": {
        "id": "3Emgeab6K1-0"
      },
      "source": [
        "Install required packages"
      ]
    },
    {
      "cell_type": "code",
      "execution_count": null,
      "metadata": {
        "colab": {
          "background_save": true
        },
        "id": "VPxMbUKTJGQk"
      },
      "outputs": [],
      "source": [
        "#can take a few moments, recommend commenting these out on subsequent runs after initialization\n",
        "!pip install git+https://github.com/openai/whisper.git -q\n",
        "!pip install pytube -q\n",
        "!pip install wordcloud"
      ]
    },
    {
      "cell_type": "markdown",
      "metadata": {
        "id": "LhVM9db3LPPq"
      },
      "source": [
        "Import required resources"
      ]
    },
    {
      "cell_type": "code",
      "execution_count": null,
      "metadata": {
        "colab": {
          "background_save": true
        },
        "id": "azeurxzaKzfv"
      },
      "outputs": [],
      "source": [
        "import datetime\n",
        "import whisper\n",
        "import numpy as np \n",
        "import pandas as pd \n",
        "import urllib.request\n",
        "import matplotlib.pyplot as plt \n",
        "import textwrap\n",
        "\n",
        "from pytube import YouTube\n",
        "from PIL import Image \n",
        "from wordcloud import WordCloud, STOPWORDS"
      ]
    },
    {
      "cell_type": "markdown",
      "metadata": {
        "id": "9ZjxC_M6LUEz"
      },
      "source": [
        "Initiate the generator"
      ]
    },
    {
      "cell_type": "code",
      "execution_count": null,
      "metadata": {
        "colab": {
          "background_save": true
        },
        "id": "I8X7RxQ9jLgY"
      },
      "outputs": [],
      "source": [
        "#record starting timestamp\n",
        "t_initial = datetime.datetime.now()\n",
        "#print(f\"Generator started {t_initial}\")\n",
        "\n",
        "print(\"Beginning transcription...\")\n",
        "\n",
        "#call Whisper to load audio to text transcripition model\n",
        "model = whisper.load_model('base')\n",
        "\n",
        "##  disregard any FP16 or FP32 errors that may arise; it will still run  "
      ]
    },
    {
      "cell_type": "markdown",
      "metadata": {
        "id": "0qIiHt1ALb8d"
      },
      "source": [
        "Acquire video information from YouTube"
      ]
    },
    {
      "cell_type": "code",
      "execution_count": null,
      "metadata": {
        "colab": {
          "background_save": true
        },
        "id": "Jqd6YP0yjpfw"
      },
      "outputs": [],
      "source": [
        "# retrieves URL from user input, assigns video to variable\n",
        "#youtube_video_url = \"URL_GOES_HERE\"\n",
        "youtube_video = YouTube(youtube_video_url)\n",
        "\n",
        "\n",
        "#select the playback stream desired for download and transcription. Defaults to first in the list (lowest quality) for fastest results\n",
        "#locally saves and renames download file\n",
        "streams = youtube_video.streams.filter(only_audio=True)\n",
        "stream = streams.first()\n",
        "stream.download(filename='yt_downloaded.mp4')"
      ]
    },
    {
      "cell_type": "markdown",
      "metadata": {
        "id": "K51uKxhXLm43"
      },
      "source": [
        "Transcribe audio from YouTube video and store text"
      ]
    },
    {
      "cell_type": "code",
      "execution_count": null,
      "metadata": {
        "colab": {
          "background_save": true
        },
        "id": "de6J4ntikExr"
      },
      "outputs": [],
      "source": [
        "#save a timestamp before transcription\n",
        "t_pre_transcription = datetime.datetime.now()\n",
        "#print(f\"Audio transcription started at {t_pre_transcription}\")\n",
        "\n",
        "#use Whisper to convert audio  to text\n",
        "#processor intensive -- comment out to save time when testing\n",
        "output = model.transcribe(\"yt_downloaded.mp4\")\n",
        "\n",
        "#record timestamp after transcription is complete\n",
        "t_post_transcription = datetime.datetime.now()\n",
        "#print(f\"Audio transcription finished at {t_post_transcription}\")\n",
        "\n",
        "#pull text string from Whisper model output \n",
        "#show success message \n",
        "transcription = output['text']\n",
        "print(\"\\n\\n\")\n",
        "print(\"The audio to text transcription of \" + \"\\\"\" + youtube_video.title + \"\\\",\" + \" which was uploaded by \" + youtube_video.author + \", has completed. \\n\")\n",
        "print(\"Creating wordcloud...\")\n",
        "print(\"\\n\\n\")\n",
        "\n",
        "# un-comment to view the entire transcription text\n",
        "# print(\"\")\n",
        "# print(transcription)\n",
        "# print(\"\")"
      ]
    },
    {
      "cell_type": "markdown",
      "metadata": {
        "id": "63K0NSSNLu5A"
      },
      "source": [
        "Retrieve and create image mask for custom wordcloud shape outline\n",
        "\n"
      ]
    },
    {
      "cell_type": "code",
      "execution_count": null,
      "metadata": {
        "colab": {
          "background_save": true
        },
        "id": "DrX8mw3lKSoO"
      },
      "outputs": [],
      "source": [
        "#record timestamp at wordcloud initialization\n",
        "t_pre_cloud = datetime.datetime.now()\n",
        "#print(f\"Wordcloud generation started at {t_pre_cloud}\")\n",
        "\n",
        "#downloads image file from url to be used as mask\n",
        "#can try replacing url to use different mask shape but currently this is not 100% functional and may generate errors or unintended results\n",
        "urllib.request.urlretrieve('http://clipart-library.com/img1/1082052.png', 'og_img_mask.png')\n",
        "\n",
        "#save original image as mask and covert to numpy array\n",
        "#commenting this out since the final result uses the inverted mask, not the original\n",
        "#regular_img_mask = np.array(Image.open('og_img_mask.png'))\n",
        "\n",
        "#invert mask colors for better results\n",
        "\n",
        "#opens the original image mask and convert it to a numpy array\n",
        "mask_image = np.array(Image.open('og_img_mask.png'))\n",
        "\n",
        "#invert mask colors\n",
        "inverted_mask_image = 255 - mask_image\n",
        "\n",
        "# #un-comment to display the inverted image mask\n",
        "# fig = plt.figure()\n",
        "# fig.set_figwidth(6) # set width\n",
        "# fig.set_figheight(4) # set height\n",
        "# plt.imshow(inverted_mask_image, cmap=plt.cm.gray, interpolation='bilinear')\n",
        "# plt.axis('off')\n",
        "# plt.show()"
      ]
    },
    {
      "cell_type": "markdown",
      "metadata": {
        "id": "DFrCMzPfL1F4"
      },
      "source": [
        "Construct wordcloud from transcribed text\n",
        "\n"
      ]
    },
    {
      "cell_type": "code",
      "execution_count": null,
      "metadata": {
        "id": "WMmj1oTLKM4d"
      },
      "outputs": [],
      "source": [
        "#define list of stopwords to be excluded from wordcloud \n",
        "stopwords = set(STOPWORDS)\n",
        "\n",
        "#fine-tune stopword list with custom input (.add line-by-line)\n",
        "stopwords.add('word1')\n",
        "stopwords.add('word2')\n",
        "stopwords.add('etc')\n",
        "\n",
        "#define parameters and create wordcloud object \n",
        "#set collocations to 'True' to include pairs of words like 'red wine' that would otherwise be considered separate  \n",
        "wordcloud = WordCloud(background_color='white', max_words=5000, mask=inverted_mask_image, stopwords=stopwords, collocations=False)\n",
        "\n",
        "#generate the wordcloud using transcribed audio\n",
        "wordcloud.generate(transcription)\n",
        "\n",
        "#record timestamp at wordcloud completion\n",
        "t_post_cloud = datetime.datetime.now()\n",
        "#print(f\"Wordcloud generation completed at {t_post_cloud}\")"
      ]
    },
    {
      "cell_type": "markdown",
      "metadata": {
        "id": "mdwbl4LQtNX7"
      },
      "source": [
        "Display resulting wordcloud, reuturn operational details"
      ]
    },
    {
      "cell_type": "code",
      "execution_count": null,
      "metadata": {
        "id": "zOv19KzJtIl_"
      },
      "outputs": [],
      "source": [
        "#display the resulting wordcloud\n",
        "fig = plt.figure()\n",
        "fig.set_figwidth(16) \n",
        "fig.set_figheight(14) \n",
        "plt.imshow(wordcloud, interpolation='bilinear')\n",
        "plt.axis('off')\n",
        "plt.show()\n",
        "print(\"\")\n",
        "\n",
        "#display operation details\n",
        "print(\"Details: \\n\")\n",
        "\n",
        "#calculate original video information:\n",
        "print(\"Video title: \" + str(youtube_video.title))\n",
        "print(\"Uploaded by: \" + str(youtube_video.author))\n",
        "video_length = youtube_video.length\n",
        "minutes, seconds = divmod(video_length, 60)\n",
        "print(f\"Original video length: {minutes} minutes and {seconds} seconds\\n\")\n",
        "\n",
        "#calculate time to transcribe audio\n",
        "audio_transcription_time = t_post_transcription - t_pre_transcription\n",
        "minutes, seconds = divmod(audio_transcription_time.total_seconds(), 60)\n",
        "print(f\"The audio to text transcription took {int(minutes)} minutes and {int(seconds)} seconds.\")\n",
        "\n",
        "#calculate time to generate wordcloud\n",
        "wordcloud_time = t_post_cloud - t_pre_cloud\n",
        "minutes, seconds = divmod(wordcloud_time.total_seconds(), 60)\n",
        "print(f\"It took {int(minutes)} minutes and {int(seconds)} seconds to generate the wordcloud.\")\n",
        "\n",
        "#calculate overall operation time\n",
        "total_time = t_post_cloud - t_initial\n",
        "minutes, seconds = divmod(total_time.total_seconds(), 60)\n",
        "print(f\"The total overall working time was {int(minutes)} minutes and {int(seconds)} seconds. \\n\")\n",
        "print(\"Here is the best attempt at a complete audio-to-text transcription from the provided video:\\n\")\n",
        "\n",
        "#set the width (in characters) of the output text\n",
        "width = 150\n",
        "\n",
        "#use `wrap` method to compile list of wrapped lines\n",
        "wrapped_lines = textwrap.wrap(transcription, width=width)\n",
        "\n",
        "#iterate through the list of wrapped lines and print them\n",
        "for line in wrapped_lines:\n",
        "    print(line)\n",
        "print(\"\\n\\n\")\n",
        "\n",
        "print(\"----Operation complete!----\\n\")\n",
        "print(\"Thank you for using the CloudScriber YouTube Audio Transcriber and WordCloud Generator v1.2\")"
      ]
    }
  ],
  "metadata": {
    "colab": {
      "provenance": [],
      "authorship_tag": "ABX9TyOTMH4GEr9wQkPKtpmaToAP"
    },
    "kernelspec": {
      "display_name": "Python 3",
      "name": "python3"
    },
    "language_info": {
      "name": "python"
    }
  },
  "nbformat": 4,
  "nbformat_minor": 0
}
